{
 "cells": [
  {
   "cell_type": "markdown",
   "id": "07e4e552-2e7a-49a6-9452-e57ecd5a369a",
   "metadata": {},
   "source": [
    "# Example usage of spectraxai for modeling\n",
    "\n",
    "Using various pre-processing techniques, models and splitting methods"
   ]
  },
  {
   "cell_type": "markdown",
   "id": "6a1661d6-35b5-43ba-9d9a-dfc70e57885a",
   "metadata": {},
   "source": [
    "## Load the example dataset"
   ]
  },
  {
   "cell_type": "code",
   "execution_count": 1,
   "id": "e0096176-3231-4cf2-b1d9-29889069cbd9",
   "metadata": {},
   "outputs": [],
   "source": [
    "from spectraxai.utils.datasets import load_GR_SSL\n",
    "\n",
    "dataset = load_GR_SSL()"
   ]
  },
  {
   "cell_type": "markdown",
   "id": "b44347ae-6e74-454b-a6e7-dc814b7461f3",
   "metadata": {},
   "source": [
    "## Kennard-Stone split and PLS"
   ]
  },
  {
   "cell_type": "code",
   "execution_count": 2,
   "id": "2001084f-d467-471f-854b-bddf49eb1fe1",
   "metadata": {},
   "outputs": [],
   "source": [
    "from spectraxai.dataset import DatasetSplit\n",
    "\n",
    "idx_trn, idx_tst = dataset.train_test_split(DatasetSplit.KENNARD_STONE, 0.8)"
   ]
  },
  {
   "cell_type": "code",
   "execution_count": 3,
   "id": "c71124ea-ce94-4877-9e46-306a0ee0695a",
   "metadata": {},
   "outputs": [
    {
     "data": {
      "text/plain": [
       "{'N': 186,\n",
       " 'RMSE': 0.34581057570112184,\n",
       " 'R2': 0.6369625596758557,\n",
       " 'RPIQ': 2.530286987972998}"
      ]
     },
     "execution_count": 3,
     "metadata": {},
     "output_type": "execute_result"
    }
   ],
   "source": [
    "from spectraxai.models import Model, StandardModel\n",
    "from spectraxai.utils.modelAssessment import metrics \n",
    "\n",
    "pls = StandardModel(Model.PLS)\n",
    "\n",
    "datasetTrn, datasetTst = dataset.subset(idx_trn), dataset.subset(idx_tst)\n",
    "pls.train(datasetTrn)\n",
    "y_hat = pls.predict(datasetTst.X)\n",
    "metrics(datasetTst.Y, y_hat)"
   ]
  },
  {
   "cell_type": "markdown",
   "id": "7b791b59-c8c8-42ab-8a5d-82fa0fb5807c",
   "metadata": {},
   "source": [
    "The above may also be simplified with a single call as follows:"
   ]
  },
  {
   "cell_type": "code",
   "execution_count": 4,
   "id": "d844592c-90f0-463b-93f0-cbf46814e081",
   "metadata": {},
   "outputs": [
    {
     "data": {
      "text/plain": [
       "[{'N': 186,\n",
       "  'RMSE': 0.34581057570112184,\n",
       "  'R2': 0.6369625596758557,\n",
       "  'RPIQ': 2.530286987972998,\n",
       "  'output': 'OM',\n",
       "  'pre_process': 'NONE',\n",
       "  'val_score': 0.5034115401574552,\n",
       "  'n_components': 16,\n",
       "  'VIP': array([2.23302446, 1.98756947, 1.50969351, 1.38541485, 1.12457779,\n",
       "         1.01419668, 1.08503902, 1.12963256, 1.09785367, 1.13378569,\n",
       "         1.2411618 , 1.21476178, 1.12122645, 1.06099858, 1.01466122,\n",
       "         0.98135311, 0.95945116, 0.95323209, 0.96152758, 0.96352632,\n",
       "         0.95497833, 0.94333931, 0.92493532, 0.89995177, 0.878851  ,\n",
       "         0.87293487, 0.8767203 , 0.8949788 , 0.91995059, 0.94147415,\n",
       "         0.95905921, 0.96700661, 0.97378277, 0.9793178 , 0.98157249,\n",
       "         0.98062836, 0.97814087, 0.97469789, 0.98118893, 0.96814409,\n",
       "         0.94978551, 0.95438756, 0.96378746, 0.9692439 , 0.96705101,\n",
       "         0.95800089, 0.94609594, 0.91610968, 0.88225574, 0.85841647,\n",
       "         0.8749628 , 0.89127196, 1.17904536, 1.35996198, 1.02302815,\n",
       "         0.92200152, 0.88749179, 0.83043151, 0.78639319, 0.75476321,\n",
       "         0.73984652, 0.74059221, 0.74238128, 0.74727714, 0.76293795,\n",
       "         0.7828409 , 0.79957539, 0.81499867, 0.83051324, 0.84599895,\n",
       "         0.84514609, 0.84965564, 0.85815551, 0.88908193, 0.93346833,\n",
       "         0.95440711, 0.92421779, 0.8508442 , 1.1917883 , 1.0190683 ,\n",
       "         0.92099973, 0.9186855 , 0.94006146, 0.96108771, 0.88222506,\n",
       "         0.90828232, 0.96792121, 1.00091638, 1.01252696, 1.02698379,\n",
       "         1.10364625, 1.07961663, 0.99932757, 1.10231163, 0.89543651,\n",
       "         0.78769631, 0.8456119 , 0.86841024, 0.90239408, 1.09350356,\n",
       "         1.13083552, 0.88197648, 0.8212465 , 0.7594057 , 0.75232866,\n",
       "         0.8673893 , 1.0315534 , 1.1864246 ]),\n",
       "  'training_time': 2.8492021560668945,\n",
       "  'testing_time': 0.0015683174133300781}]"
      ]
     },
     "execution_count": 4,
     "metadata": {},
     "output_type": "execute_result"
    }
   ],
   "source": [
    "pls.train_and_test(dataset, idx_trn=idx_trn)"
   ]
  },
  {
   "cell_type": "markdown",
   "id": "714dec03-41c8-4ba2-85fb-d1bc709c49dd",
   "metadata": {},
   "source": [
    "## cross-validation split and RF with ABS + SG1 transformation"
   ]
  },
  {
   "cell_type": "code",
   "execution_count": 5,
   "id": "2a993419-b5bd-45d2-ba36-1ec52829ce7c",
   "metadata": {},
   "outputs": [
    {
     "data": {
      "text/html": [
       "<div>\n",
       "<style scoped>\n",
       "    .dataframe tbody tr th:only-of-type {\n",
       "        vertical-align: middle;\n",
       "    }\n",
       "\n",
       "    .dataframe tbody tr th {\n",
       "        vertical-align: top;\n",
       "    }\n",
       "\n",
       "    .dataframe thead th {\n",
       "        text-align: right;\n",
       "    }\n",
       "</style>\n",
       "<table border=\"1\" class=\"dataframe\">\n",
       "  <thead>\n",
       "    <tr style=\"text-align: right;\">\n",
       "      <th></th>\n",
       "      <th>pre_process</th>\n",
       "      <th>training_time</th>\n",
       "      <th>testing_time</th>\n",
       "      <th>val_score</th>\n",
       "      <th>N</th>\n",
       "      <th>RMSE</th>\n",
       "      <th>R2</th>\n",
       "      <th>RPIQ</th>\n",
       "      <th>fold</th>\n",
       "      <th>max_features</th>\n",
       "      <th>n_estimators</th>\n",
       "      <th>feature_importance</th>\n",
       "    </tr>\n",
       "  </thead>\n",
       "  <tbody>\n",
       "    <tr>\n",
       "      <th>0</th>\n",
       "      <td>[absorbance, (SG1, {'window_length': 7, 'polyo...</td>\n",
       "      <td>6.901191</td>\n",
       "      <td>0.012831</td>\n",
       "      <td>0.449156</td>\n",
       "      <td>186</td>\n",
       "      <td>0.472051</td>\n",
       "      <td>0.504034</td>\n",
       "      <td>1.821836</td>\n",
       "      <td>1</td>\n",
       "      <td>sqrt</td>\n",
       "      <td>150</td>\n",
       "      <td>[0.007311236321289507, 0.005922101668542232, 0...</td>\n",
       "    </tr>\n",
       "    <tr>\n",
       "      <th>1</th>\n",
       "      <td>[absorbance, (SG1, {'window_length': 7, 'polyo...</td>\n",
       "      <td>10.580489</td>\n",
       "      <td>0.012789</td>\n",
       "      <td>0.480443</td>\n",
       "      <td>186</td>\n",
       "      <td>0.397997</td>\n",
       "      <td>0.494489</td>\n",
       "      <td>2.010064</td>\n",
       "      <td>2</td>\n",
       "      <td>auto</td>\n",
       "      <td>150</td>\n",
       "      <td>[0.006811354102976155, 0.010927377124538515, 0...</td>\n",
       "    </tr>\n",
       "    <tr>\n",
       "      <th>2</th>\n",
       "      <td>[absorbance, (SG1, {'window_length': 7, 'polyo...</td>\n",
       "      <td>9.157084</td>\n",
       "      <td>0.008301</td>\n",
       "      <td>0.469675</td>\n",
       "      <td>186</td>\n",
       "      <td>0.462718</td>\n",
       "      <td>0.501521</td>\n",
       "      <td>1.761330</td>\n",
       "      <td>3</td>\n",
       "      <td>auto</td>\n",
       "      <td>100</td>\n",
       "      <td>[0.008446335331240642, 0.00812063919006671, 0....</td>\n",
       "    </tr>\n",
       "    <tr>\n",
       "      <th>3</th>\n",
       "      <td>[absorbance, (SG1, {'window_length': 7, 'polyo...</td>\n",
       "      <td>7.251591</td>\n",
       "      <td>0.018930</td>\n",
       "      <td>0.431118</td>\n",
       "      <td>185</td>\n",
       "      <td>0.376516</td>\n",
       "      <td>0.586008</td>\n",
       "      <td>2.177861</td>\n",
       "      <td>4</td>\n",
       "      <td>sqrt</td>\n",
       "      <td>200</td>\n",
       "      <td>[0.006030150303970275, 0.005241892080834433, 0...</td>\n",
       "    </tr>\n",
       "    <tr>\n",
       "      <th>4</th>\n",
       "      <td>[absorbance, (SG1, {'window_length': 7, 'polyo...</td>\n",
       "      <td>6.660348</td>\n",
       "      <td>0.004572</td>\n",
       "      <td>0.489760</td>\n",
       "      <td>185</td>\n",
       "      <td>0.481364</td>\n",
       "      <td>0.464460</td>\n",
       "      <td>2.077430</td>\n",
       "      <td>5</td>\n",
       "      <td>sqrt</td>\n",
       "      <td>50</td>\n",
       "      <td>[0.003477779676180579, 0.004854142280427052, 0...</td>\n",
       "    </tr>\n",
       "  </tbody>\n",
       "</table>\n",
       "</div>"
      ],
      "text/plain": [
       "                                         pre_process  training_time  \\\n",
       "0  [absorbance, (SG1, {'window_length': 7, 'polyo...       6.901191   \n",
       "1  [absorbance, (SG1, {'window_length': 7, 'polyo...      10.580489   \n",
       "2  [absorbance, (SG1, {'window_length': 7, 'polyo...       9.157084   \n",
       "3  [absorbance, (SG1, {'window_length': 7, 'polyo...       7.251591   \n",
       "4  [absorbance, (SG1, {'window_length': 7, 'polyo...       6.660348   \n",
       "\n",
       "   testing_time  val_score    N      RMSE        R2      RPIQ  fold  \\\n",
       "0      0.012831   0.449156  186  0.472051  0.504034  1.821836     1   \n",
       "1      0.012789   0.480443  186  0.397997  0.494489  2.010064     2   \n",
       "2      0.008301   0.469675  186  0.462718  0.501521  1.761330     3   \n",
       "3      0.018930   0.431118  185  0.376516  0.586008  2.177861     4   \n",
       "4      0.004572   0.489760  185  0.481364  0.464460  2.077430     5   \n",
       "\n",
       "  max_features  n_estimators  \\\n",
       "0         sqrt           150   \n",
       "1         auto           150   \n",
       "2         auto           100   \n",
       "3         sqrt           200   \n",
       "4         sqrt            50   \n",
       "\n",
       "                                  feature_importance  \n",
       "0  [0.007311236321289507, 0.005922101668542232, 0...  \n",
       "1  [0.006811354102976155, 0.010927377124538515, 0...  \n",
       "2  [0.008446335331240642, 0.00812063919006671, 0....  \n",
       "3  [0.006030150303970275, 0.005241892080834433, 0...  \n",
       "4  [0.003477779676180579, 0.004854142280427052, 0...  "
      ]
     },
     "execution_count": 5,
     "metadata": {},
     "output_type": "execute_result"
    }
   ],
   "source": [
    "from spectraxai.spectra import SpectralPreprocessing\n",
    "\n",
    "treatments = [\n",
    "    [\n",
    "        SpectralPreprocessing.ABS,\n",
    "        (SpectralPreprocessing.SG1, {\"window_length\": 7, \"polyorder\": 3}),\n",
    "    ]\n",
    "]\n",
    "\n",
    "idx_trn, idx_tst = dataset.train_test_split(DatasetSplit.CROSS_VALIDATION, 5)\n",
    "\n",
    "rf = StandardModel(Model.RF)\n",
    "rf.train_and_test_with_sequence(dataset, treatments, idx_trn)"
   ]
  }
 ],
 "metadata": {
  "kernelspec": {
   "display_name": "Python [conda env:spectraxai]",
   "language": "python",
   "name": "conda-env-spectraxai-py"
  },
  "language_info": {
   "codemirror_mode": {
    "name": "ipython",
    "version": 3
   },
   "file_extension": ".py",
   "mimetype": "text/x-python",
   "name": "python",
   "nbconvert_exporter": "python",
   "pygments_lexer": "ipython3",
   "version": "3.10.4"
  }
 },
 "nbformat": 4,
 "nbformat_minor": 5
}
